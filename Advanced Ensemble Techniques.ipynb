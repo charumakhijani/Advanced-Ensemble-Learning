{
 "cells": [
  {
   "cell_type": "code",
   "execution_count": 1,
   "metadata": {},
   "outputs": [
    {
     "name": "stderr",
     "output_type": "stream",
     "text": [
      "/anaconda/envs/py35/lib/python3.5/importlib/_bootstrap.py:222: RuntimeWarning: numpy.dtype size changed, may indicate binary incompatibility. Expected 96, got 88\n",
      "  return f(*args, **kwds)\n",
      "/anaconda/envs/py35/lib/python3.5/importlib/_bootstrap.py:222: RuntimeWarning: numpy.dtype size changed, may indicate binary incompatibility. Expected 96, got 88\n",
      "  return f(*args, **kwds)\n"
     ]
    }
   ],
   "source": [
    "import pandas as pd\n",
    "import numpy as np\n",
    "from sklearn import preprocessing"
   ]
  },
  {
   "cell_type": "code",
   "execution_count": 2,
   "metadata": {},
   "outputs": [],
   "source": [
    "df_data = pd.read_csv(\"adult.csv\")"
   ]
  },
  {
   "cell_type": "code",
   "execution_count": 3,
   "metadata": {},
   "outputs": [
    {
     "data": {
      "text/html": [
       "<div>\n",
       "<style scoped>\n",
       "    .dataframe tbody tr th:only-of-type {\n",
       "        vertical-align: middle;\n",
       "    }\n",
       "\n",
       "    .dataframe tbody tr th {\n",
       "        vertical-align: top;\n",
       "    }\n",
       "\n",
       "    .dataframe thead th {\n",
       "        text-align: right;\n",
       "    }\n",
       "</style>\n",
       "<table border=\"1\" class=\"dataframe\">\n",
       "  <thead>\n",
       "    <tr style=\"text-align: right;\">\n",
       "      <th></th>\n",
       "      <th>age</th>\n",
       "      <th>workclass</th>\n",
       "      <th>fnlwgt</th>\n",
       "      <th>education</th>\n",
       "      <th>educational-num</th>\n",
       "      <th>marital-status</th>\n",
       "      <th>occupation</th>\n",
       "      <th>relationship</th>\n",
       "      <th>race</th>\n",
       "      <th>gender</th>\n",
       "      <th>capital-gain</th>\n",
       "      <th>capital-loss</th>\n",
       "      <th>hours-per-week</th>\n",
       "      <th>native-country</th>\n",
       "      <th>income</th>\n",
       "    </tr>\n",
       "  </thead>\n",
       "  <tbody>\n",
       "    <tr>\n",
       "      <th>0</th>\n",
       "      <td>39</td>\n",
       "      <td>State-gov</td>\n",
       "      <td>77516</td>\n",
       "      <td>Bachelors</td>\n",
       "      <td>13</td>\n",
       "      <td>Never-married</td>\n",
       "      <td>Adm-clerical</td>\n",
       "      <td>Not-in-family</td>\n",
       "      <td>White</td>\n",
       "      <td>Male</td>\n",
       "      <td>2174</td>\n",
       "      <td>0</td>\n",
       "      <td>40</td>\n",
       "      <td>United-States</td>\n",
       "      <td>&lt;=50K</td>\n",
       "    </tr>\n",
       "    <tr>\n",
       "      <th>1</th>\n",
       "      <td>50</td>\n",
       "      <td>Self-emp-not-inc</td>\n",
       "      <td>83311</td>\n",
       "      <td>Bachelors</td>\n",
       "      <td>13</td>\n",
       "      <td>Married-civ-spouse</td>\n",
       "      <td>Exec-managerial</td>\n",
       "      <td>Husband</td>\n",
       "      <td>White</td>\n",
       "      <td>Male</td>\n",
       "      <td>0</td>\n",
       "      <td>0</td>\n",
       "      <td>13</td>\n",
       "      <td>United-States</td>\n",
       "      <td>&lt;=50K</td>\n",
       "    </tr>\n",
       "    <tr>\n",
       "      <th>2</th>\n",
       "      <td>38</td>\n",
       "      <td>Private</td>\n",
       "      <td>215646</td>\n",
       "      <td>HS-grad</td>\n",
       "      <td>9</td>\n",
       "      <td>Divorced</td>\n",
       "      <td>Handlers-cleaners</td>\n",
       "      <td>Not-in-family</td>\n",
       "      <td>White</td>\n",
       "      <td>Male</td>\n",
       "      <td>0</td>\n",
       "      <td>0</td>\n",
       "      <td>40</td>\n",
       "      <td>United-States</td>\n",
       "      <td>&lt;=50K</td>\n",
       "    </tr>\n",
       "    <tr>\n",
       "      <th>3</th>\n",
       "      <td>53</td>\n",
       "      <td>Private</td>\n",
       "      <td>234721</td>\n",
       "      <td>11th</td>\n",
       "      <td>7</td>\n",
       "      <td>Married-civ-spouse</td>\n",
       "      <td>Handlers-cleaners</td>\n",
       "      <td>Husband</td>\n",
       "      <td>Black</td>\n",
       "      <td>Male</td>\n",
       "      <td>0</td>\n",
       "      <td>0</td>\n",
       "      <td>40</td>\n",
       "      <td>United-States</td>\n",
       "      <td>&lt;=50K</td>\n",
       "    </tr>\n",
       "    <tr>\n",
       "      <th>4</th>\n",
       "      <td>28</td>\n",
       "      <td>Private</td>\n",
       "      <td>338409</td>\n",
       "      <td>Bachelors</td>\n",
       "      <td>13</td>\n",
       "      <td>Married-civ-spouse</td>\n",
       "      <td>Prof-specialty</td>\n",
       "      <td>Wife</td>\n",
       "      <td>Black</td>\n",
       "      <td>Female</td>\n",
       "      <td>0</td>\n",
       "      <td>0</td>\n",
       "      <td>40</td>\n",
       "      <td>Cuba</td>\n",
       "      <td>&lt;=50K</td>\n",
       "    </tr>\n",
       "  </tbody>\n",
       "</table>\n",
       "</div>"
      ],
      "text/plain": [
       "   age          workclass  fnlwgt   education  educational-num  \\\n",
       "0   39          State-gov   77516   Bachelors               13   \n",
       "1   50   Self-emp-not-inc   83311   Bachelors               13   \n",
       "2   38            Private  215646     HS-grad                9   \n",
       "3   53            Private  234721        11th                7   \n",
       "4   28            Private  338409   Bachelors               13   \n",
       "\n",
       "        marital-status          occupation    relationship    race   gender  \\\n",
       "0        Never-married        Adm-clerical   Not-in-family   White     Male   \n",
       "1   Married-civ-spouse     Exec-managerial         Husband   White     Male   \n",
       "2             Divorced   Handlers-cleaners   Not-in-family   White     Male   \n",
       "3   Married-civ-spouse   Handlers-cleaners         Husband   Black     Male   \n",
       "4   Married-civ-spouse      Prof-specialty            Wife   Black   Female   \n",
       "\n",
       "   capital-gain  capital-loss  hours-per-week  native-country  income  \n",
       "0          2174             0              40   United-States   <=50K  \n",
       "1             0             0              13   United-States   <=50K  \n",
       "2             0             0              40   United-States   <=50K  \n",
       "3             0             0              40   United-States   <=50K  \n",
       "4             0             0              40            Cuba   <=50K  "
      ]
     },
     "execution_count": 3,
     "metadata": {},
     "output_type": "execute_result"
    }
   ],
   "source": [
    "df_data.head()"
   ]
  },
  {
   "cell_type": "code",
   "execution_count": 4,
   "metadata": {},
   "outputs": [
    {
     "data": {
      "text/plain": [
       "age                 int64\n",
       "workclass          object\n",
       "fnlwgt              int64\n",
       "education          object\n",
       "educational-num     int64\n",
       "marital-status     object\n",
       "occupation         object\n",
       "relationship       object\n",
       "race               object\n",
       "gender             object\n",
       "capital-gain        int64\n",
       "capital-loss        int64\n",
       "hours-per-week      int64\n",
       "native-country     object\n",
       "income             object\n",
       "dtype: object"
      ]
     },
     "execution_count": 4,
     "metadata": {},
     "output_type": "execute_result"
    }
   ],
   "source": [
    "df_data.dtypes"
   ]
  },
  {
   "cell_type": "code",
   "execution_count": 5,
   "metadata": {},
   "outputs": [
    {
     "data": {
      "text/plain": [
       "' United-States'"
      ]
     },
     "execution_count": 5,
     "metadata": {},
     "output_type": "execute_result"
    }
   ],
   "source": [
    "df_data[\"native-country\"].value_counts().index[0]"
   ]
  },
  {
   "cell_type": "code",
   "execution_count": 6,
   "metadata": {},
   "outputs": [
    {
     "data": {
      "text/plain": [
       " <=50K    24720\n",
       " >50K      7841\n",
       "Name: income, dtype: int64"
      ]
     },
     "execution_count": 6,
     "metadata": {},
     "output_type": "execute_result"
    }
   ],
   "source": [
    "df_data[\"income\"].value_counts()"
   ]
  },
  {
   "cell_type": "code",
   "execution_count": 7,
   "metadata": {},
   "outputs": [],
   "source": [
    "df_data = df_data.drop(['fnlwgt', 'educational-num'], axis = 1) "
   ]
  },
  {
   "cell_type": "code",
   "execution_count": 8,
   "metadata": {},
   "outputs": [],
   "source": [
    "col_names = df_data.columns"
   ]
  },
  {
   "cell_type": "code",
   "execution_count": 9,
   "metadata": {},
   "outputs": [],
   "source": [
    "for c in col_names: \n",
    "    df_data = df_data.replace(\"?\", np.NaN) \n",
    "df_data = df_data.apply(lambda x:x.fillna(x.value_counts().index[0]))"
   ]
  },
  {
   "cell_type": "code",
   "execution_count": 10,
   "metadata": {},
   "outputs": [
    {
     "name": "stdout",
     "output_type": "stream",
     "text": [
      "{'marital-status': {' Married-spouse-absent': 3, ' Never-married': 4, ' Married-AF-spouse': 1, ' Married-civ-spouse': 2, ' Divorced': 0, ' Widowed': 6, ' Separated': 5}, 'income': {' <=50K': 0, ' >50K': 1}, 'native-country': {' Puerto-Rico': 33, ' Guatemala': 13, ' Hungary': 18, ' China': 3, ' Dominican-Republic': 6, ' England': 9, ' Canada': 2, ' France': 10, ' India': 19, ' Japan': 24, ' El-Salvador': 8, ' Outlying-US(Guam-USVI-etc)': 28, ' Honduras': 16, ' Columbia': 4, ' Ireland': 21, ' Vietnam': 40, ' Cambodia': 1, ' Iran': 20, ' Trinadad&Tobago': 38, ' Portugal': 32, ' United-States': 39, ' Hong': 17, ' Jamaica': 23, ' ?': 0, ' Philippines': 30, ' Nicaragua': 27, ' Mexico': 26, ' Poland': 31, ' Cuba': 5, ' Italy': 22, ' Haiti': 14, ' Yugoslavia': 41, ' Holand-Netherlands': 15, ' Germany': 11, ' Thailand': 37, ' Peru': 29, ' Laos': 25, ' Taiwan': 36, ' Scotland': 34, ' South': 35, ' Ecuador': 7, ' Greece': 12}, 'relationship': {' Husband': 0, ' Other-relative': 2, ' Not-in-family': 1, ' Unmarried': 4, ' Wife': 5, ' Own-child': 3}, 'race': {' Amer-Indian-Eskimo': 0, ' White': 4, ' Other': 3, ' Black': 2, ' Asian-Pac-Islander': 1}, 'occupation': {' Armed-Forces': 2, ' Prof-specialty': 10, ' Priv-house-serv': 9, ' ?': 0, ' Protective-serv': 11, ' Machine-op-inspct': 7, ' Sales': 12, ' Adm-clerical': 1, ' Exec-managerial': 4, ' Transport-moving': 14, ' Other-service': 8, ' Tech-support': 13, ' Craft-repair': 3, ' Farming-fishing': 5, ' Handlers-cleaners': 6}, 'workclass': {' Local-gov': 2, ' Without-pay': 8, ' Federal-gov': 1, ' ?': 0, ' Self-emp-not-inc': 6, ' Never-worked': 3, ' Private': 4, ' Self-emp-inc': 5, ' State-gov': 7}, 'education': {' Masters': 12, ' 12th': 2, ' 10th': 0, ' Assoc-voc': 8, ' Doctorate': 10, ' Assoc-acdm': 7, ' 5th-6th': 4, ' Prof-school': 14, ' HS-grad': 11, ' 7th-8th': 5, ' Preschool': 13, ' 11th': 1, ' Some-college': 15, ' Bachelors': 9, ' 9th': 6, ' 1st-4th': 3}, 'gender': {' Male': 1, ' Female': 0}}\n"
     ]
    }
   ],
   "source": [
    "category_col =['workclass', 'education', 'marital-status', 'occupation', 'relationship', \n",
    "               'race', 'gender', 'native-country', 'income']  \n",
    "labelEncoder = preprocessing.LabelEncoder() \n",
    "  \n",
    "mapping_dict ={} \n",
    "for col in category_col: \n",
    "    df_data[col] = labelEncoder.fit_transform(df_data[col]) \n",
    "  \n",
    "    le_name_mapping = dict(zip(labelEncoder.classes_, \n",
    "                        labelEncoder.transform(labelEncoder.classes_))) \n",
    "  \n",
    "    mapping_dict[col]= le_name_mapping \n",
    "print(mapping_dict) "
   ]
  },
  {
   "cell_type": "code",
   "execution_count": 11,
   "metadata": {},
   "outputs": [],
   "source": [
    "from sklearn.model_selection import train_test_split \n",
    "from sklearn.metrics import accuracy_score \n",
    "  \n",
    "X = df_data.drop('income', axis = 1) \n",
    "Y = df_data['income']\n",
    "\n",
    "X_train, X_test, y_train, y_test = train_test_split(X, Y, test_size = 0.3, random_state = 100) "
   ]
  },
  {
   "cell_type": "code",
   "execution_count": 12,
   "metadata": {},
   "outputs": [],
   "source": [
    "import warnings\n",
    "warnings.filterwarnings('ignore')"
   ]
  },
  {
   "cell_type": "markdown",
   "metadata": {},
   "source": [
    "## Bagging"
   ]
  },
  {
   "cell_type": "code",
   "execution_count": 20,
   "metadata": {},
   "outputs": [
    {
     "name": "stdout",
     "output_type": "stream",
     "text": [
      "LogisticRegression :::: Mean: 0.8006753500688977 , Std Dev: 0.004969066102330903\n",
      "Bagging LogisticRegression :::: Mean: 0.8037462760675274 , Std Dev: 0.005739327540419379 \n",
      "\n",
      "DecisionTreeClassifier :::: Mean: 0.8132235206269293 , Std Dev: 0.0059799546800177955\n",
      "Bagging DecisionTreeClassifier :::: Mean: 0.849639923635328 , Std Dev: 0.0046034229502244905 \n",
      "\n",
      "RandomForestClassifier :::: Mean: 0.8428395418119674 , Std Dev: 0.003365797368294014\n",
      "Bagging RandomForestClassifier :::: Mean: 0.8571426949339122 , Std Dev: 0.0043497027492810135 \n",
      "\n",
      "ExtraTreesClassifier :::: Mean: 0.8357312764139395 , Std Dev: 0.006725800884171518\n",
      "Bagging ExtraTreesClassifier :::: Mean: 0.8507809096017798 , Std Dev: 0.0048621773984696935 \n",
      "\n",
      "KNeighborsClassifier :::: Mean: 0.8238853221249702 , Std Dev: 0.006423083088668752\n",
      "Bagging KNeighborsClassifier :::: Mean: 0.8396364017767104 , Std Dev: 0.00599320955270458 \n",
      "\n",
      "VotingClassifier :::: Mean: 0.8454716211326913 , Std Dev: 0.006423083088668752\n"
     ]
    }
   ],
   "source": [
    "from sklearn.tree import DecisionTreeClassifier\n",
    "from sklearn.ensemble import RandomForestClassifier, ExtraTreesClassifier, BaggingClassifier, VotingClassifier\n",
    "from sklearn.linear_model import LogisticRegression\n",
    "from sklearn.neighbors import KNeighborsClassifier\n",
    "from sklearn.svm import SVC\n",
    "from sklearn.model_selection import cross_val_score\n",
    "\n",
    "lr_clf = LogisticRegression() \n",
    "dt_clf = DecisionTreeClassifier() \n",
    "rf_clf = RandomForestClassifier() \n",
    "et_clf = ExtraTreesClassifier() \n",
    "knn_clf = KNeighborsClassifier() \n",
    "ensembler = VotingClassifier(estimators=[('LogisticRegression', lr_clf), ('DecisionTreeClassifier', dt_clf),\n",
    "                                        ('RandomForestClassifier', rf_clf), ('ExtraTreesClassifier', et_clf),\n",
    "                                        ('KNeighborsClassifier', knn_clf)], voting = 'hard')\n",
    "\n",
    "classifiers =[lr_clf, dt_clf, rf_clf, et_clf, knn_clf]\n",
    "for clf in classifiers:\n",
    "    clf_scores = cross_val_score(clf, X_train, y_train, cv = 10)\n",
    "    bagging_clf = BaggingClassifier(clf, max_samples=0.4, max_features=10, random_state=0)\n",
    "    bagging_clf_scores = cross_val_score(bagging_clf, X_train, y_train, cv = 10)\n",
    "    print(clf.__class__.__name__, \":::: Mean:\", clf_scores.mean(), \", Std Dev:\", clf_scores.std())\n",
    "    print(\"Bagging\", clf.__class__.__name__, \":::: Mean:\", bagging_clf_scores.mean(), \", Std Dev:\", bagging_clf_scores.std(), \"\\n\")\n",
    "\n",
    "ensembler = VotingClassifier(estimators=[('LogisticRegression', lr_clf), ('DecisionTreeClassifier', dt_clf),\n",
    "                                        ('RandomForestClassifier', rf_clf), ('ExtraTreesClassifier', et_clf),\n",
    "                                        ('KNeighborsClassifier', knn_clf)], voting = 'hard')\n",
    "\n",
    "\n",
    "ensembler_scores = cross_val_score(ensembler, X_train, y_train, cv = 10)\n",
    "print(ensembler.__class__.__name__, \":::: Mean:\", ensembler_scores.mean(), \", Std Dev:\", clf_scores.std())"
   ]
  },
  {
   "cell_type": "markdown",
   "metadata": {},
   "source": [
    "## Boosting"
   ]
  },
  {
   "cell_type": "code",
   "execution_count": 26,
   "metadata": {},
   "outputs": [
    {
     "name": "stdout",
     "output_type": "stream",
     "text": [
      "AdaBoostClassifier :::: Mean: 0.8604337082284473 , Std Dev: 0.0032409094349287403\n",
      "GradientBoostingClassifier :::: Mean: 0.8644262257222698 , Std Dev: 0.0032315430892614675\n",
      "XGBClassifier :::: Mean: 0.8641189579917322 , Std Dev: 0.004561102596800773\n",
      "VotingClassifier :::: Mean: 0.864645581703271 , Std Dev: 0.0032985215353102735\n"
     ]
    }
   ],
   "source": [
    "from sklearn.ensemble import AdaBoostClassifier, GradientBoostingClassifier\n",
    "from xgboost import XGBClassifier\n",
    "from sklearn.model_selection import cross_val_score\n",
    "\n",
    "ab_clf = AdaBoostClassifier() \n",
    "gb_clf = GradientBoostingClassifier() \n",
    "xgb_clf = XGBClassifier() \n",
    "\n",
    "ensembler = VotingClassifier(estimators=[('AdaBoostClassifier', ab_clf), ('GradientBoostingClassifier', gb_clf),\n",
    "                                        ('XGBClassifier', xgb_clf)], voting = 'hard')\n",
    "\n",
    "classifiers =[ab_clf, gb_clf, xgb_clf, ensembler]\n",
    "for clf in classifiers:\n",
    "    clf_scores = cross_val_score(clf, X_train, y_train, cv = 10)\n",
    "    print(clf.__class__.__name__, \":::: Mean:\", clf_scores.mean(), \", Std Dev:\", clf_scores.std())"
   ]
  },
  {
   "cell_type": "markdown",
   "metadata": {},
   "source": [
    "## Stacking"
   ]
  },
  {
   "cell_type": "code",
   "execution_count": 30,
   "metadata": {},
   "outputs": [
    {
     "ename": "ImportError",
     "evalue": "cannot import name 'StackingClassifier'",
     "output_type": "error",
     "traceback": [
      "\u001b[0;31m---------------------------------------------------------------------------\u001b[0m",
      "\u001b[0;31mImportError\u001b[0m                               Traceback (most recent call last)",
      "\u001b[0;32m<ipython-input-30-7b0f63396021>\u001b[0m in \u001b[0;36m<module>\u001b[0;34m()\u001b[0m\n\u001b[1;32m      5\u001b[0m \u001b[0;32mfrom\u001b[0m \u001b[0msklearn\u001b[0m\u001b[0;34m.\u001b[0m\u001b[0msvm\u001b[0m \u001b[0;32mimport\u001b[0m \u001b[0mSVC\u001b[0m\u001b[0;34m\u001b[0m\u001b[0m\n\u001b[1;32m      6\u001b[0m \u001b[0;32mfrom\u001b[0m \u001b[0msklearn\u001b[0m\u001b[0;34m.\u001b[0m\u001b[0mnaive_bayes\u001b[0m \u001b[0;32mimport\u001b[0m \u001b[0mGaussianNB\u001b[0m\u001b[0;34m\u001b[0m\u001b[0m\n\u001b[0;32m----> 7\u001b[0;31m \u001b[0;32mfrom\u001b[0m \u001b[0msklearn\u001b[0m\u001b[0;34m.\u001b[0m\u001b[0mensemble\u001b[0m \u001b[0;32mimport\u001b[0m \u001b[0mStackingClassifier\u001b[0m\u001b[0;34m\u001b[0m\u001b[0m\n\u001b[0m\u001b[1;32m      8\u001b[0m \u001b[0;34m\u001b[0m\u001b[0m\n\u001b[1;32m      9\u001b[0m \u001b[0;32mdef\u001b[0m \u001b[0mget_stacking\u001b[0m\u001b[0;34m(\u001b[0m\u001b[0;34m)\u001b[0m\u001b[0;34m:\u001b[0m\u001b[0;34m\u001b[0m\u001b[0m\n",
      "\u001b[0;31mImportError\u001b[0m: cannot import name 'StackingClassifier'"
     ]
    }
   ],
   "source": [
    "from sklearn.model_selection import cross_val_score, RepeatedStratifiedKFold\n",
    "from sklearn.linear_model import LogisticRegression\n",
    "from sklearn.neighbors import KNeighborsClassifier\n",
    "from sklearn.tree import DecisionTreeClassifier\n",
    "from sklearn.svm import SVC\n",
    "from sklearn.naive_bayes import GaussianNB\n",
    "from sklearn.ensemble import StackingClassifier\n",
    "\n",
    "def get_stacking():\n",
    "    level0 = [('lr', LogisticRegression()), ('knn', KNeighborsClassifier()), ('cart', DecisionTreeClassifier()),\n",
    "              ('svm', SVC()), ('bayes', GaussianNB())]\n",
    "    level1 = LogisticRegression()\n",
    "    model = StackingClassifier(estimators=level0, final_estimator=level1, cv=5)\n",
    "    return model\n",
    " \n",
    "def get_models():\n",
    "    models = dict()\n",
    "    models['lr'] = LogisticRegression()\n",
    "    models['knn'] = KNeighborsClassifier()\n",
    "    models['cart'] = DecisionTreeClassifier()\n",
    "    models['svm'] = SVC()\n",
    "    models['bayes'] = GaussianNB()\n",
    "    models['stacking'] = get_stacking()\n",
    "    return models\n",
    " \n",
    "def evaluate_model(model, X, y):\n",
    "    cv = RepeatedStratifiedKFold(n_splits=10, n_repeats=3, random_state=1)\n",
    "    scores = cross_val_score(model, X, y, scoring='accuracy', cv=cv, n_jobs=-1, error_score='raise')\n",
    "    return scores\n",
    " \n",
    "models = get_models()\n",
    "results, names = list(), list()\n",
    "for name, model in models.items():\n",
    "    scores = evaluate_model(model, X_train, y_train)\n",
    "    results.append(scores)\n",
    "    names.append(name)\n",
    "    print('>%s %.3f (%.3f)' % (name, mean(scores), std(scores)))"
   ]
  },
  {
   "cell_type": "code",
   "execution_count": null,
   "metadata": {},
   "outputs": [],
   "source": []
  }
 ],
 "metadata": {
  "kernelspec": {
   "display_name": "Python 3.5",
   "language": "python",
   "name": "python3"
  },
  "language_info": {
   "codemirror_mode": {
    "name": "ipython",
    "version": 3
   },
   "file_extension": ".py",
   "mimetype": "text/x-python",
   "name": "python",
   "nbconvert_exporter": "python",
   "pygments_lexer": "ipython3",
   "version": "3.5.5"
  }
 },
 "nbformat": 4,
 "nbformat_minor": 2
}
